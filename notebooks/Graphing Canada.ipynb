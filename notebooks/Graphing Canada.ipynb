{
 "cells": [
  {
   "cell_type": "code",
   "execution_count": 2,
   "metadata": {},
   "outputs": [],
   "source": [
    "import plotly.graph_objects as go\n",
    "import plotly.express as px\n",
    "from plotly.subplots import make_subplots\n",
    "\n",
    "import math\n",
    "import json\n",
    "\n",
    "import numpy as np\n",
    "import pandas as pd"
   ]
  },
  {
   "cell_type": "code",
   "execution_count": 1,
   "metadata": {},
   "outputs": [],
   "source": [
    "from pull_data import pull_JHU_data, pull_UofT_data, pull_GC, aggregate_UofT"
   ]
  },
  {
   "cell_type": "code",
   "execution_count": 3,
   "metadata": {},
   "outputs": [
    {
     "data": {
      "text/html": [
       "<div>\n",
       "<style scoped>\n",
       "    .dataframe tbody tr th:only-of-type {\n",
       "        vertical-align: middle;\n",
       "    }\n",
       "\n",
       "    .dataframe tbody tr th {\n",
       "        vertical-align: top;\n",
       "    }\n",
       "\n",
       "    .dataframe thead th {\n",
       "        text-align: right;\n",
       "    }\n",
       "</style>\n",
       "<table border=\"1\" class=\"dataframe\">\n",
       "  <thead>\n",
       "    <tr style=\"text-align: right;\">\n",
       "      <th>Province/State</th>\n",
       "      <th>Alberta</th>\n",
       "      <th>British Columbia</th>\n",
       "      <th>Manitoba</th>\n",
       "      <th>New Brunswick</th>\n",
       "      <th>Newfoundland and Labrador</th>\n",
       "      <th>Nova Scotia</th>\n",
       "      <th>Ontario</th>\n",
       "      <th>Prince Edward Island</th>\n",
       "      <th>Quebec</th>\n",
       "      <th>Saskatchewan</th>\n",
       "      <th>Northwest Territories</th>\n",
       "      <th>Yukon</th>\n",
       "    </tr>\n",
       "  </thead>\n",
       "  <tbody>\n",
       "    <tr>\n",
       "      <th>2020-01-22</th>\n",
       "      <td>0</td>\n",
       "      <td>0</td>\n",
       "      <td>0</td>\n",
       "      <td>0</td>\n",
       "      <td>0</td>\n",
       "      <td>0</td>\n",
       "      <td>0</td>\n",
       "      <td>0</td>\n",
       "      <td>0</td>\n",
       "      <td>0</td>\n",
       "      <td>0</td>\n",
       "      <td>0</td>\n",
       "    </tr>\n",
       "    <tr>\n",
       "      <th>2020-01-23</th>\n",
       "      <td>0</td>\n",
       "      <td>0</td>\n",
       "      <td>0</td>\n",
       "      <td>0</td>\n",
       "      <td>0</td>\n",
       "      <td>0</td>\n",
       "      <td>0</td>\n",
       "      <td>0</td>\n",
       "      <td>0</td>\n",
       "      <td>0</td>\n",
       "      <td>0</td>\n",
       "      <td>0</td>\n",
       "    </tr>\n",
       "    <tr>\n",
       "      <th>2020-01-24</th>\n",
       "      <td>0</td>\n",
       "      <td>0</td>\n",
       "      <td>0</td>\n",
       "      <td>0</td>\n",
       "      <td>0</td>\n",
       "      <td>0</td>\n",
       "      <td>0</td>\n",
       "      <td>0</td>\n",
       "      <td>0</td>\n",
       "      <td>0</td>\n",
       "      <td>0</td>\n",
       "      <td>0</td>\n",
       "    </tr>\n",
       "    <tr>\n",
       "      <th>2020-01-25</th>\n",
       "      <td>0</td>\n",
       "      <td>0</td>\n",
       "      <td>0</td>\n",
       "      <td>0</td>\n",
       "      <td>0</td>\n",
       "      <td>0</td>\n",
       "      <td>0</td>\n",
       "      <td>0</td>\n",
       "      <td>0</td>\n",
       "      <td>0</td>\n",
       "      <td>0</td>\n",
       "      <td>0</td>\n",
       "    </tr>\n",
       "    <tr>\n",
       "      <th>2020-01-26</th>\n",
       "      <td>0</td>\n",
       "      <td>0</td>\n",
       "      <td>0</td>\n",
       "      <td>0</td>\n",
       "      <td>0</td>\n",
       "      <td>0</td>\n",
       "      <td>1</td>\n",
       "      <td>0</td>\n",
       "      <td>0</td>\n",
       "      <td>0</td>\n",
       "      <td>0</td>\n",
       "      <td>0</td>\n",
       "    </tr>\n",
       "  </tbody>\n",
       "</table>\n",
       "</div>"
      ],
      "text/plain": [
       "Province/State  Alberta  British Columbia  Manitoba  New Brunswick  \\\n",
       "2020-01-22            0                 0         0              0   \n",
       "2020-01-23            0                 0         0              0   \n",
       "2020-01-24            0                 0         0              0   \n",
       "2020-01-25            0                 0         0              0   \n",
       "2020-01-26            0                 0         0              0   \n",
       "\n",
       "Province/State  Newfoundland and Labrador  Nova Scotia  Ontario  \\\n",
       "2020-01-22                              0            0        0   \n",
       "2020-01-23                              0            0        0   \n",
       "2020-01-24                              0            0        0   \n",
       "2020-01-25                              0            0        0   \n",
       "2020-01-26                              0            0        1   \n",
       "\n",
       "Province/State  Prince Edward Island  Quebec  Saskatchewan  \\\n",
       "2020-01-22                         0       0             0   \n",
       "2020-01-23                         0       0             0   \n",
       "2020-01-24                         0       0             0   \n",
       "2020-01-25                         0       0             0   \n",
       "2020-01-26                         0       0             0   \n",
       "\n",
       "Province/State  Northwest Territories  Yukon  \n",
       "2020-01-22                          0      0  \n",
       "2020-01-23                          0      0  \n",
       "2020-01-24                          0      0  \n",
       "2020-01-25                          0      0  \n",
       "2020-01-26                          0      0  "
      ]
     },
     "execution_count": 3,
     "metadata": {},
     "output_type": "execute_result"
    }
   ],
   "source": [
    "df_JHU = pull_JHU_data()\n",
    "\n",
    "df_JHU.head()"
   ]
  },
  {
   "cell_type": "code",
   "execution_count": null,
   "metadata": {},
   "outputs": [],
   "source": [
    "df_JHU['2020-04-05'].sum()"
   ]
  },
  {
   "cell_type": "code",
   "execution_count": null,
   "metadata": {},
   "outputs": [],
   "source": [
    "df_GC = pull_GC()\n",
    "df_GC.head()\n",
    "df_GC.groupby(\"prname\").agg({\"numconf\":\"sum\"})"
   ]
  },
  {
   "cell_type": "code",
   "execution_count": 4,
   "metadata": {},
   "outputs": [
    {
     "data": {
      "text/plain": [
       "provincial_case_id                                                     4441\n",
       "age                                                            Not Reported\n",
       "sex                                                            Not Reported\n",
       "health_region                                                  Peterborough\n",
       "province                                                            Ontario\n",
       "country                                                              Canada\n",
       "date_report                                             2020-04-05 00:00:00\n",
       "report_week                                             2020-04-05 00:00:00\n",
       "travel_yn                                                      Not Reported\n",
       "travel_history_country                                                  NaN\n",
       "locally_acquired                                                        NaN\n",
       "case_source               https://www.peterboroughpublichealth.ca/your-h...\n",
       "additional_info                                                         NaN\n",
       "additional_source                                                       NaN\n",
       "method_note                                                             NaN\n",
       "Name: 15915, dtype: object"
      ]
     },
     "execution_count": 4,
     "metadata": {},
     "output_type": "execute_result"
    }
   ],
   "source": [
    "df_UofT = pull_UofT_data()\n",
    "df_UofT.iloc[-1,:]"
   ]
  },
  {
   "cell_type": "code",
   "execution_count": null,
   "metadata": {},
   "outputs": [],
   "source": [
    "agg=pd.DataFrame({\"JHU\":df_JHU.max(axis=1)})\n",
    "agg[\"GC\"]=df_GC.groupby(\"prname\").agg({\"numconf\":\"max\"})\n",
    "agg[\"UofT\"] = df_UofT.groupby(\"province\").agg({\"provincial_case_id\":\"max\"})\n",
    "agg"
   ]
  },
  {
   "cell_type": "code",
   "execution_count": null,
   "metadata": {},
   "outputs": [],
   "source": [
    "df_UofT.head()"
   ]
  },
  {
   "cell_type": "code",
   "execution_count": null,
   "metadata": {},
   "outputs": [],
   "source": [
    "df_UofT[\"date_report\"]=pd.to_datetime(df_UofT[\"date_report\"],dayfirst=True)\n",
    "print(df_UofT.shape)\n",
    "print(df_UofT[df_UofT.date_report<\"2020-04-01\"].shape)\n",
    "print( df_UofT.date_report.dt.to_period('M').value_counts() )"
   ]
  },
  {
   "cell_type": "code",
   "execution_count": null,
   "metadata": {},
   "outputs": [],
   "source": [
    "testing = pull_UofT_data(kind=\"testing\")\n",
    "testing.head()"
   ]
  },
  {
   "cell_type": "code",
   "execution_count": null,
   "metadata": {},
   "outputs": [],
   "source": []
  },
  {
   "cell_type": "code",
   "execution_count": null,
   "metadata": {},
   "outputs": [],
   "source": [
    "for x in testing.columns:\n",
    "    print(x)\n",
    "    print(testing[x].value_counts())\n",
    "    print(\"---\")"
   ]
  },
  {
   "cell_type": "code",
   "execution_count": null,
   "metadata": {},
   "outputs": [],
   "source": [
    "quebec_path = \"../data/quebec/Quebec.csv\"\n",
    "headers = [\"Region\",  \"Total Number of Cases\", \"Date of Infection\", \"Lat\", \"Long\"]\n",
    "df = pd.read_csv(quebec_path)\n",
    "regions = df[:19]\n",
    "dates = list(regions)[1:]\n",
    "\n",
    "\n",
    "\n",
    "lat_long = [(48.333333, -68.666667), (49.8667, -71.75), (47.333333, -71.5), (47, -73), (45.481556, -71.667917),\n",
    "               (45.5, -73.566667), (45.783333, -75.083333), (48.233333, -79.016667), (50.866667, -65.816667),\n",
    "               (56.166667, -74.416667), (48.683333, -65.4), (46.483333, -70.616667), (45.583333, -73.75),\n",
    "               (46.766667, -73.833333), (46.433333, -74.983333), (45.383333, -73.1), (46.283333, -72.066667)]\n",
    "\n",
    "\n",
    "population = [197385, 276368, 729997, 266112, 319004, 1942044, 382604, 146717, 92518, 44561, 90311, 420082, 422993, 494796, 589400, 1507070, 242399]\n",
    "\n",
    "density = [8.9, 2.8, 38.8, 7.4, 31.2, 3889.8, 12.4, 2.5, 0.4, 0.1, 4.4, 27.9, 1710.9, 39.8, 28.4, 135.4, 35.0]"
   ]
  },
  {
   "cell_type": "code",
   "execution_count": null,
   "metadata": {},
   "outputs": [],
   "source": [
    "boundaries = [[[-75.521078,47.846988],[-75.521328,47.763314],[-75.308858,47.547632],[-75.558812,47.207758],[-75.796918,47.319068],[-76.091496,47.188543],[-76.130591,46.924539],[-75.896777,46.817864],[-75.747563,46.842662],[-75.745234,46.438231],[-75.788765,46.274808],[-75.748112,45.972435],[-75.408277,45.97322],[-75.408148,46.097566],[-74.939369,46.105915],[-74.714402,45.8879],[-74.807877,45.638399],[-75.683908,45.459147],[-75.863327,45.378637],[-75.959496,45.465951],[-76.205678,45.51791],[-76.347222,45.456245],[-76.656641,45.558558],[-76.782695,45.874218],[-76.993624,45.787639],[-77.194378,45.86903],[-77.277882,46.009395],[-77.568477,46.157865],[-77.841593,46.20636],[-77.742892,46.409166],[-77.828896,46.764638],[-77.834224,46.771435],[-77.887515,46.836003],[-77.890685,46.842495],[-77.891966,46.844478],[-77.892402,46.853972],[-77.850785,46.891076],[-77.850058,46.884025],[-77.844448,46.886294],[-77.84366,46.896653],[-77.834101,46.926713],[-77.836447,46.934191],[-77.860428,47.239651],[-77.433071,47.290474],[-77.433281,47.144924],[-77.002301,47.145024],[-77.001718,47.289943],[-76.575914,47.289729],[-76.575596,47.604154],[-76.454455,47.622073],[-76.451946,47.627699],[-76.288937,47.681683],[-76.289692,47.683687],[-76.229669,47.73144],[-75.837584,47.750306],[-75.8341,47.749513],[-75.81342,47.68064],[-75.812205,47.67892],[-75.811202,47.674356],[-75.810177,47.67167],[-75.782192,47.799428],[-75.780107,47.800688],[-75.521078,47.846988]]]"
   ]
  },
  {
   "cell_type": "code",
   "execution_count": null,
   "metadata": {},
   "outputs": [],
   "source": []
  },
  {
   "cell_type": "code",
   "execution_count": null,
   "metadata": {},
   "outputs": [],
   "source": [
    "stacked_df = pd.DataFrame(columns=headers)\n",
    "for ix,row in regions.iterrows():\n",
    "    region = [list(row)[0]]*(len(row)-1)\n",
    "    if ix < 17:\n",
    "        lat = [lat_long[ix][0]]*(len(row)-1)\n",
    "        long = [lat_long[ix][1]]*(len(row)-1)\n",
    "    else : \n",
    "        lat = [\"na\"]*(len(row)-1)\n",
    "        long = [\"na\"]*(len(row)-1)\n",
    "    num_cases = list(row)[1:]\n",
    "    region_list = [region, num_cases, dates, lat, long]\n",
    "    temp = pd.DataFrame(list(map(list, zip(*region_list))), columns = headers)\n",
    "    stacked_df =stacked_df.append(temp,  ignore_index=True)\n"
   ]
  },
  {
   "cell_type": "code",
   "execution_count": null,
   "metadata": {},
   "outputs": [],
   "source": [
    "stacked_df"
   ]
  },
  {
   "cell_type": "markdown",
   "metadata": {},
   "source": [
    "# Total Cases"
   ]
  },
  {
   "cell_type": "code",
   "execution_count": null,
   "metadata": {},
   "outputs": [],
   "source": [
    "total_cases = list(df.iloc[19])[1:]"
   ]
  },
  {
   "cell_type": "code",
   "execution_count": null,
   "metadata": {},
   "outputs": [],
   "source": [
    "fig = px.bar(stacked_df, x=\"Date of Infection\", y=\"Total Number of Cases\", color = \"Region\", color_discrete_sequence= px.colors.qualitative.Light24)\n",
    "fig.add_trace(go.Scatter(x=dates, y=total_cases,\n",
    "                    mode='lines',\n",
    "                    name='Total'))\n",
    "fig.update_layout(legend_orientation=\"h\")\n",
    "fig.update_layout(legend=dict( y=-0.45))\n",
    "\n",
    "fig.show()\n",
    "with open('../plotly/total_cases.json', 'w') as f:\n",
    "    f.write(fig.to_json())"
   ]
  },
  {
   "cell_type": "markdown",
   "metadata": {},
   "source": [
    "# New Cases"
   ]
  },
  {
   "cell_type": "code",
   "execution_count": null,
   "metadata": {},
   "outputs": [],
   "source": [
    "new_cases = list(df.iloc[20])[2:]"
   ]
  },
  {
   "cell_type": "code",
   "execution_count": null,
   "metadata": {},
   "outputs": [],
   "source": [
    "fig = go.Figure(data=go.Scatter(x=dates[1:], y=new_cases,\n",
    "                    mode='lines',\n",
    "                    name='New Cases'))\n",
    "fig.update_layout(title='New Cases Each Day',\n",
    "                   xaxis_title='Date',\n",
    "                   yaxis_title='Number of New Cases')\n",
    "fig.show()\n",
    "with open('../plotly/new_cases.json', 'w') as f:\n",
    "    f.write(fig.to_json())"
   ]
  },
  {
   "cell_type": "markdown",
   "metadata": {},
   "source": [
    "# Doubling"
   ]
  },
  {
   "cell_type": "code",
   "execution_count": null,
   "metadata": {},
   "outputs": [],
   "source": [
    "doubling = list(df.iloc[26])[1:]\n"
   ]
  },
  {
   "cell_type": "code",
   "execution_count": null,
   "metadata": {},
   "outputs": [],
   "source": [
    "fig = go.Figure(data=go.Scatter(x=dates[1:], y=doubling,\n",
    "                    mode='lines',\n",
    "                    name='Time to Double'))\n",
    "fig.update_layout(title='Current Doubling Time',\n",
    "                   xaxis_title='Date',\n",
    "                   yaxis_title='Days to Double')\n",
    "fig.show()\n",
    "with open('../plotly/doubling.json', 'w') as f:\n",
    "    f.write(fig.to_json())"
   ]
  },
  {
   "cell_type": "markdown",
   "metadata": {},
   "source": [
    "# Testing"
   ]
  },
  {
   "cell_type": "code",
   "execution_count": null,
   "metadata": {},
   "outputs": [],
   "source": [
    "headers = [\"Results\",  \"People Tested\", \"Lab Report Date\"]\n",
    "positive = list(df.iloc[20])[1:]\n",
    "negative = list(df.iloc[23])[1:]"
   ]
  },
  {
   "cell_type": "code",
   "execution_count": null,
   "metadata": {},
   "outputs": [],
   "source": [
    "fig = go.Figure(data=[\n",
    "    go.Bar(name='Negative', x=dates[2:], y=negative[2:]),\n",
    "    go.Bar(name='Positive', x=dates[2:], y=positive[2:])\n",
    "])\n",
    "# Change the bar mode\n",
    "fig.update_layout(barmode='stack')\n",
    "fig.update_layout(\n",
    "                   xaxis_title='Lab Report Day',\n",
    "                   yaxis_title='Peope Tested')\n",
    "fig.show()\n",
    "with open('../plotly/tested.json', 'w') as f:\n",
    "    f.write(fig.to_json())"
   ]
  },
  {
   "cell_type": "code",
   "execution_count": null,
   "metadata": {},
   "outputs": [],
   "source": [
    "total = list(df.iloc[19][1:])\n",
    "dead = list(df.iloc[24])[1:]\n",
    "recovered = list(df.iloc[25])[1:]\n",
    "active = [ t-r-d for t,r,d in zip(total, recovered, dead)]\n",
    "\n",
    "dead_percent = [d/t for d,t in zip(dead, total)]\n",
    "recovered_percent = [r/t for r,t in zip(recovered, total)]\n",
    "active_percent = [a/t for a,t in zip(active, total)]"
   ]
  },
  {
   "cell_type": "code",
   "execution_count": null,
   "metadata": {},
   "outputs": [],
   "source": [
    "\n",
    "fig = go.Figure()\n",
    "\n",
    "\n",
    "fig.add_trace(\n",
    "    go.Scatter(x= dates, y=dead, name=\"Deceased\", visible = True),\n",
    "\n",
    ")\n",
    "\n",
    "fig.add_trace(\n",
    "    go.Scatter(x=dates, y=dead_percent, name=\"Deceased Percent\", visible = True),\n",
    ")\n",
    "\n",
    "\n",
    "fig.add_trace(\n",
    "    go.Scatter(x= dates, y=recovered, name=\"Recovered\", visible = True),\n",
    ")\n",
    "\n",
    "fig.add_trace(\n",
    "    go.Scatter(x=dates, y=recovered_percent, name=\"Recovered Percent\", visible = True),\n",
    ")\n",
    "\n",
    "\n",
    "fig.add_trace(\n",
    "    go.Scatter(x= dates, y=active, name=\"Active\"),\n",
    ")\n",
    "\n",
    "fig.add_trace(\n",
    "    go.Scatter(x=dates, y=active_percent, name=\"Active Percent\", visible = True),\n",
    ")\n",
    "\n",
    "\n",
    "\n",
    "\n",
    "\n",
    "fig.update_layout(\n",
    "    updatemenus=[\n",
    "        dict(\n",
    "            #type=\"buttons\",\n",
    "            direction=\"down\",\n",
    "            showactive = True,\n",
    "            #active = 0,\n",
    "            x=1,\n",
    "            y=1.5,\n",
    "            buttons=list([\n",
    "                dict(label=\"Current Active\",\n",
    "                     method=\"update\",\n",
    "                     args=[{\"visible\": [True,False,True, False, True, False]},\n",
    "                           {\"title\": 'Active, Deceased and Recovered Cases', \n",
    "                            \"xaxis.title\" : 'Date',\n",
    "                            \"yaxis.title\" : 'Number of Cases',\n",
    "                            \"yaxis.type\": \"linear\",\n",
    "                            #\"xaxis.type\": \"linear\",\n",
    "                            \"annotations\" : [],\n",
    "                           }]   ),\n",
    "                dict(label=\"Percentage Active\",\n",
    "                     method=\"update\",\n",
    "                     args=[{\"visible\": [False,True,False, True, False, True]},\n",
    "                           {\"title\": 'Percentage of Active, Deceased and Recovered Cases', \n",
    "                            \"xaxis.title\" : 'Date',\n",
    "                            \"yaxis.title\" : 'Percentage of Cases',\n",
    "                            \"yaxis.type\": \"linear\",\n",
    "                            #\"xaxis.type\": \"linear\",\n",
    "                            \"annotations\" : [],\n",
    "                           }]   ),\n",
    "\n",
    "            ]),\n",
    "        )\n",
    "    ])\n",
    "\n",
    "\n",
    "fig.update_layout(\n",
    "    title_text=\"Active Cases\",\n",
    ")\n",
    "fig.update_layout(legend_orientation=\"h\")\n",
    "fig.update_layout(legend=dict( y=-0.4))\n",
    "\n",
    "\n",
    "fig.show()\n",
    "\n",
    "with open('../plotly/cases.json', 'w') as f:\n",
    "    f.write(fig.to_json())\n",
    "\n",
    "# # Add figure title\n",
    "# fig.update_layout(\n",
    "#     title_text=\"Types of cases\"\n",
    "# )\n",
    "\n",
    "# # Set x-axis title\n",
    "# fig.update_xaxes(title_text=\"Date\")\n",
    "\n",
    "# # Set y-axes titles\n",
    "# fig.update_yaxes(title_text=\"<b>primary</b> Amount\", secondary_y=False)\n",
    "# fig.update_yaxes(title_text=\"<b>secondary</b> Percent\", secondary_y=True)\n",
    "\n",
    "# fig.show()"
   ]
  },
  {
   "cell_type": "markdown",
   "metadata": {},
   "source": [
    "# Maps"
   ]
  },
  {
   "cell_type": "code",
   "execution_count": null,
   "metadata": {},
   "outputs": [],
   "source": [
    "with open(\"../data/quebec/quebec.geojson\",\"r\") as infile:\n",
    "    quebec = json.load(infile)"
   ]
  },
  {
   "cell_type": "code",
   "execution_count": null,
   "metadata": {},
   "outputs": [],
   "source": [
    "lastday_df = stacked_df.loc[stacked_df['Date of Infection'] == dates[-1]][:17]\n",
    "lastday_df = lastday_df.rename(columns = {\"Region\":\"res_nm_reg\"})\n",
    "total_cases = list(lastday_df[\"Total Number of Cases\"])\n",
    "cases_per_density = [ total/d for total, d in zip(total_cases, density)]\n",
    "cases_per_population = [ total/p*100000 for total, p in zip(total_cases, population)]\n",
    "lastday_df[\"Cases per Density\"] = cases_per_density\n",
    "lastday_df[\"Cases per 100k\"] = cases_per_population\n",
    "\n",
    "#del lastday_df['Date of Infection']"
   ]
  },
  {
   "cell_type": "code",
   "execution_count": null,
   "metadata": {},
   "outputs": [],
   "source": [
    "fig = px.choropleth(lastday_df, geojson=quebec, color=\"Total Number of Cases\", locations=\"res_nm_reg\", \n",
    "                    featureidkey= \"properties.res_nm_reg\", color_continuous_scale='Blues',\n",
    "                    projection=\"mercator\"\n",
    "                   )\n",
    "fig.update_geos(fitbounds=\"locations\", visible=False)\n",
    "fig.update_layout(title='Total Cases by Region')\n",
    "fig.show()\n",
    "with open('../plotly/map.json', 'w') as f:\n",
    "    f.write(fig.to_json())"
   ]
  },
  {
   "cell_type": "code",
   "execution_count": null,
   "metadata": {},
   "outputs": [],
   "source": [
    "fig = px.choropleth(lastday_df, geojson=quebec, color=\"Cases per 100k\", locations=\"res_nm_reg\", \n",
    "                    featureidkey= \"properties.res_nm_reg\", color_continuous_scale='Blues',\n",
    "                    projection=\"mercator\"\n",
    "                   )\n",
    "fig.update_geos(fitbounds=\"locations\", visible=False)\n",
    "fig.update_layout(title='Total Cases per 100k')\n",
    "fig.show()\n",
    "with open('../plotly/map_population.json', 'w') as f:\n",
    "    f.write(fig.to_json())"
   ]
  },
  {
   "cell_type": "markdown",
   "metadata": {},
   "source": [
    "# Exponential"
   ]
  },
  {
   "cell_type": "code",
   "execution_count": null,
   "metadata": {},
   "outputs": [],
   "source": [
    "total = list(df.iloc[19][1:])\n",
    "\n",
    "\n",
    "region_cases = []\n",
    "\n",
    "for i in range(17):\n",
    "    temp = list(df.iloc[i][1:])\n",
    "    ix_0 = [i for i, t in enumerate(temp) if t >0]\n",
    "    if len(ix_0) >0 : \n",
    "        temp = temp[ix_0[0]:]\n",
    "    else : \n",
    "        temp = []\n",
    "    region_cases.append(temp)"
   ]
  },
  {
   "cell_type": "code",
   "execution_count": null,
   "metadata": {},
   "outputs": [],
   "source": [
    "region_cases_per_100k = []\n",
    "\n",
    "for i, r in enumerate(region_cases): \n",
    "    if r : \n",
    "        region_cases_per_100k.append( [ 100000*x/population[i] for x in r ])\n",
    "    else:\n",
    "        region_cases_per_100k.append([])\n",
    "\n",
    "total_cases_per_100k = [ 100000*x/8164361 for x in total ]\n",
    "\n",
    "regions = stacked_df.Region.unique()\n"
   ]
  },
  {
   "cell_type": "code",
   "execution_count": null,
   "metadata": {},
   "outputs": [],
   "source": [
    "past_week = []\n",
    "for i,_ in enumerate(total[7:]):\n",
    "    past_week.append(total[i:i+7]) \n",
    "past_week_sum = [100000*(w[-1]-w[0])/8164361 for w in past_week]\n",
    "\n",
    "region_week = []\n",
    "for i, r in enumerate(region_cases): \n",
    "    if len(r)>=7 :\n",
    "        temp = []\n",
    "        for r0,r7 in zip(r,r[7:]):\n",
    "            temp.append(100000*(r7-r0)/population[i])\n",
    "        region_week.append( temp)\n",
    "    else:\n",
    "        region_week.append([])   \n"
   ]
  },
  {
   "cell_type": "code",
   "execution_count": null,
   "metadata": {},
   "outputs": [],
   "source": [
    "fig = go.Figure()\n",
    "\n",
    "color = ['#EB89B5', '#5b7bd6','#ff6960', '#d11411', '#00b159', '#00aedb', '#f37735', '#ffc425',\n",
    "          '#a200ff', '#f47835', '#d41243', '#8ec127', '#feda75', '#fa7e1e', '#962fbf', '#fa9e1e', \n",
    "         '#800000', '#FFFF00', '#7D3C98']\n",
    "\n",
    "fig.add_trace(go.Scatter(y=total_cases_per_100k,name = \"All Quebec\", mode = 'lines+markers'))\n",
    "\n",
    "for r_c, r in zip(region_cases_per_100k, regions):\n",
    "    fig.add_trace(go.Scatter(y=r_c, name = r, mode = 'lines+markers'))\n",
    "\n",
    "# fig.update_layout(\n",
    "#     title_text='Exponential Growth since First Infection', # title of plot\n",
    "#     xaxis_title_text='Date since first infection', # xaxis label\n",
    "#     yaxis_title_text='Cases per 100k (log scale)', # yaxis label\n",
    "\n",
    "# )\n",
    "\n",
    "\n",
    "fig.add_trace(go.Scatter(x=total_cases_per_100k[7:], y=past_week_sum,name = \"All Quebec\", mode = 'lines+markers', visible=False,))\n",
    "\n",
    "\n",
    "for r_100, r_c, r in zip(region_cases_per_100k, region_week, regions):\n",
    "    fig.add_trace(go.Scatter(x =r_100[7:] , y=r_c, name = r, mode = 'lines+markers', visible=False))\n",
    "\n",
    "fig.update_layout(\n",
    "    xaxis_title_text='Date since 1st infection', # xaxis label\n",
    "    yaxis_title_text='Cases per 100k (log scale)', # yaxis label\n",
    "\n",
    ")\n",
    "\n",
    "\n",
    "\n",
    "\n",
    "fig.update_layout(\n",
    "    updatemenus=[\n",
    "        dict(\n",
    "            #type=\"buttons\",\n",
    "            direction=\"down\",\n",
    "            showactive = True,\n",
    "            #active = 0,\n",
    "            x=1,\n",
    "            y=1.5,\n",
    "            buttons=list([\n",
    "                dict(label=\"Growth per Date\",\n",
    "                     method=\"update\",\n",
    "                     args=[{\"visible\": [True]*18+ [False]*18},\n",
    "                           {\"title\": 'Exponential Growth since First Infection', \n",
    "                            \"xaxis.title\" : 'Date since first infection',\n",
    "                            \"yaxis.title\" : 'Cases per 100k (log scale)',\n",
    "                            \"yaxis.type\": \"linear\",\n",
    "                            \"xaxis.type\": \"linear\",\n",
    "                            \"annotations\" : [],\n",
    "                           }]   ),\n",
    "                dict(label=\"Growth per total Cases\",\n",
    "                     method=\"update\",\n",
    "                     args=[{\"visible\":  [False]*18+ [True]*18},\n",
    "                           {\"title\": 'Exponential Growth per total cases',\n",
    "                            \"xaxis.title\" : 'Cases per 100k ',\n",
    "                            \"yaxis.title\" : 'New Cases per 100k in last week',\n",
    "                            \"yaxis.type\": \"linear\",\n",
    "                            \"xaxis.type\": \"linear\",\n",
    "                           }]),\n",
    "                                dict(label=\"Growth per Date Log Scale\",\n",
    "                     method=\"update\",\n",
    "                     args=[{\"visible\": [True]*18+ [False]*18},\n",
    "                           {\"title\": 'Exponential Growth since First Infection', \n",
    "                            \"xaxis.title\" : 'Date since first infection',\n",
    "                            \"yaxis.title\" : 'Cases per 100k (log scale)',\n",
    "                            \"yaxis.type\": \"log\",\n",
    "                            \"xaxis.type\": \"linear\",\n",
    "                            \"annotations\" : [],\n",
    "                           }]   ),\n",
    "                dict(label=\"Growth per total Cases Log Scale\",\n",
    "                     method=\"update\",\n",
    "                     args=[{\"visible\":  [False]*18+ [True]*18},\n",
    "                           {\"title\": 'Exponential Growth per total cases',\n",
    "                            \"xaxis.title\" : 'Cases per 100k (log scale)',\n",
    "                            \"yaxis.title\" : 'New Cases per 100k in last week(log scale)',\n",
    "                            \"yaxis.type\": \"log\",\n",
    "                            \"xaxis.type\": \"log\",\n",
    "                           }]),\n",
    "            ]),\n",
    "        )\n",
    "    ])\n",
    "\n",
    "\n",
    "fig.update_layout(\n",
    "    title_text=\"Exponential\",\n",
    ")\n",
    "fig.update_layout(legend_orientation=\"h\")\n",
    "fig.update_layout(legend=dict( y=-0.4))\n",
    "\n",
    "\n",
    "fig.show()\n",
    "\n",
    "with open('../plotly/exponential.json', 'w') as f:\n",
    "    f.write(fig.to_json())"
   ]
  },
  {
   "cell_type": "code",
   "execution_count": null,
   "metadata": {},
   "outputs": [],
   "source": [
    "change = []\n",
    "\n",
    "for i, r in enumerate(region_cases): \n",
    "    if len(r)>1 : \n",
    "        change.append( [ (y-x)/x*100 for x,y in zip(r[:-1], r[1:])])\n",
    "    else:\n",
    "        change.append([])\n",
    "\n",
    "quebec_change = [ (y-x)/x*100 for x,y in zip(total[:-1], total[1:])]"
   ]
  },
  {
   "cell_type": "code",
   "execution_count": null,
   "metadata": {},
   "outputs": [],
   "source": [
    "\n",
    "#[ sum([ (y-x)/x*100 for x,y in zip(w[:-1], w[1:])])/6 for w in past_week]\n",
    "\n",
    "avg_change = []\n",
    "for r in region_cases : \n",
    "    if not r :\n",
    "        avg_change.append([])\n",
    "    if len(r) == 1 : \n",
    "        avg_change.append(r[0])\n",
    "    else: \n",
    "        temp = [ 100*(y-x)/x for x,y in zip(r[:-1], r[1:])]\n",
    "        avg_change.append(r)\n",
    "\n",
    "#doubling = [ [(i+1)*math.log(2)/(math.log(p/positive[0])) for i,p in enumerate(positive[1:])] for positive in region_cases]\n"
   ]
  },
  {
   "cell_type": "markdown",
   "metadata": {},
   "source": [
    "# Montreal"
   ]
  },
  {
   "cell_type": "code",
   "execution_count": null,
   "metadata": {},
   "outputs": [],
   "source": [
    "# with open(\"../data/quebec/montreal_ciuss.geojson\",\"w\") as outfile:\n",
    "#     json.dump(ciuss_map, outfile)"
   ]
  },
  {
   "cell_type": "code",
   "execution_count": null,
   "metadata": {},
   "outputs": [],
   "source": [
    "# with open(\"../data/quebec/montreal.geojson\",\"r\") as infile:\n",
    "#     montreal_nhood = json.load(infile)"
   ]
  },
  {
   "cell_type": "code",
   "execution_count": null,
   "metadata": {},
   "outputs": [],
   "source": [
    "with open(\"../data/quebec/montreal_ciuss.geojson\",\"r\") as infile:\n",
    "    ciuss_map = json.load(infile)"
   ]
  },
  {
   "cell_type": "code",
   "execution_count": null,
   "metadata": {},
   "outputs": [],
   "source": [
    "import json\n",
    "path = '../data/quebec/past/montreal2020-04-04T22:13:10.json'\n",
    "with open(path, 'r') as outfile:\n",
    "    montreal = json.load( outfile)"
   ]
  },
  {
   "cell_type": "code",
   "execution_count": null,
   "metadata": {},
   "outputs": [],
   "source": [
    "montreal"
   ]
  },
  {
   "cell_type": "code",
   "execution_count": null,
   "metadata": {},
   "outputs": [],
   "source": []
  },
  {
   "cell_type": "code",
   "execution_count": null,
   "metadata": {},
   "outputs": [],
   "source": [
    "keys = list(montreal.keys())\n",
    "\n",
    "montreal_map = {}\n",
    "# montreal_rates = {}\n",
    "\n",
    "for key,val in montreal.items() :\n",
    "    montreal_map[key] = int(val[0].replace(\",\",\"\"))\n",
    "    #montreal_rates[key] = float(val[1].replace(\",\",\"\"))\n",
    "\n",
    "del montreal_map['Total for Montréal']\n",
    "del montreal_map['Territory to be confirmed*']\n",
    "# del montreal_rates['Total for Montréal']\n",
    "# del montreal_rates['Territory to be confirmed*']"
   ]
  },
  {
   "cell_type": "code",
   "execution_count": null,
   "metadata": {},
   "outputs": [],
   "source": [
    "montreal_df = pd.DataFrame(montreal_map.items(), columns=['CIUSS', 'Cases'])"
   ]
  },
  {
   "cell_type": "code",
   "execution_count": null,
   "metadata": {},
   "outputs": [],
   "source": [
    "fig = px.choropleth(montreal_df, geojson=ciuss_map, color=\"Cases\", locations=\"CIUSS\", \n",
    "                    featureidkey= \"properties.NOM\",\n",
    "                    projection=\"mercator\"\n",
    "                   )\n",
    "fig.update_geos(fitbounds=\"locations\", visible=False)\n",
    "fig.update_layout(title='Cases per CIUSS')\n",
    "fig.show()\n",
    "with open('../plotly/map_montreal.json', 'w') as f:\n",
    "    f.write(fig.to_json())"
   ]
  },
  {
   "cell_type": "code",
   "execution_count": null,
   "metadata": {},
   "outputs": [],
   "source": [
    "\n",
    "layout = go.Layout(\n",
    "#     xaxis=dict(\n",
    "#         type='log',\n",
    "#         autorange=True\n",
    "#     ),\n",
    "    yaxis=dict(\n",
    "        type='log',\n",
    "        autorange=True\n",
    "    )\n",
    ")\n",
    "color = ['#EB89B5', '#5b7bd6','#ff6960', '#d11411', '#00b159', '#00aedb', '#f37735', '#ffc425',\n",
    "          '#a200ff', '#f47835', '#d41243', '#8ec127', '#feda75', '#fa7e1e', '#962fbf', '#fa9e1e', \n",
    "         '#800000', '#FFFF00', '#7D3C98']\n",
    "fig = go.Figure(layout = layout)\n",
    "fig.add_trace(go.Scatter(y=total_cases_per_100k,name = \"All Quebec\", mode = 'lines+markers'))\n",
    "\n",
    "for r_c, r in zip(region_cases_per_100k, regions):\n",
    "    fig.add_trace(go.Scatter(y=r_c, name = r, mode = 'lines+markers'))\n",
    "\n",
    "fig.update_layout(\n",
    "    title_text='Exponential Growth since First Infection', # title of plot\n",
    "    xaxis_title_text='Date since first infection', # xaxis label\n",
    "    yaxis_title_text='Cases per 100k (log scale)', # yaxis label\n",
    "\n",
    ")\n",
    "\n",
    "fig.update_layout(legend_orientation=\"h\")\n",
    "fig.update_layout(legend=dict( y=-0.45))\n",
    "\n",
    "fig.show()\n",
    "\n",
    "\n",
    "# with open('../plotly/exponential_growth_time.json', 'w') as f:\n",
    "#     f.write(fig.to_json())\n",
    "\n",
    "\n",
    "\n",
    "\n",
    "layout = go.Layout(\n",
    "    xaxis=dict(\n",
    "        type='log',\n",
    "        autorange=True\n",
    "    ),\n",
    "    yaxis=dict(\n",
    "        type='log',\n",
    "        autorange=True\n",
    "    )\n",
    ")\n",
    "\n",
    "fig = go.Figure(layout = layout)\n",
    "fig.add_trace(go.Scatter(x=total_cases_per_100k[7:], y=past_week_sum,name = \"All Quebec\", mode = 'lines+markers'))\n",
    "\n",
    "regions = stacked_df.Region.unique()\n",
    "color = ['#EB89B5', '#5b7bd6','#ff6960', '#d11411', '#00b159', '#00aedb', '#f37735', '#ffc425',\n",
    "          '#a200ff', '#f47835', '#d41243', '#8ec127', '#feda75', '#fa7e1e', '#962fbf', '#fa9e1e', \n",
    "         '#800000', '#FFFF00', '#7D3C98']\n",
    "\n",
    "\n",
    "for r_100, r_c, r in zip(region_cases_per_100k, region_week, regions):\n",
    "    fig.add_trace(go.Scatter(x =r_100[7:] , y=r_c, name = r, mode = 'lines+markers'))\n",
    "\n",
    "fig.update_layout(\n",
    "    title_text='Exponential Growth per total cases', # title of plot\n",
    "    xaxis_title_text='Total Cases per 100k (log scale)', # xaxis label\n",
    "    yaxis_title_text='New Cases per 100k in Last Week (log scale)', # yaxis label\n",
    "\n",
    ")\n",
    "\n",
    "\n",
    "fig.update_layout(legend_orientation=\"h\")\n",
    "fig.update_layout(legend=dict( y=-0.45))\n",
    "\n",
    "fig.show()\n",
    "\n",
    "# with open('../plotly/exponential_growth_cases.json', 'w') as f:\n",
    "#     f.write(fig.to_json())"
   ]
  },
  {
   "cell_type": "code",
   "execution_count": null,
   "metadata": {},
   "outputs": [],
   "source": [
    "all_regions = stacked_df.Region.unique()\n",
    "regions = [stacked_df.loc[stacked_df['Region'] == r][\"Total Number of Cases\"].to_list() for r in all_regions]\n",
    "\n",
    "\n",
    "fig = make_subplots(rows=9, cols=2, subplot_titles=tuple(all_regions[:17]), shared_xaxes=True, shared_yaxes = True)\n",
    "\n",
    "for  i,m in enumerate(regions[:17]) :\n",
    "\n",
    "    r = i//2+1\n",
    "    c = i%2+1\n",
    "\n",
    "    fig.add_trace(\n",
    "    go.Scatter(x=dates, y=m, mode = \"lines\"),\n",
    "    row=r, col=c\n",
    ")\n",
    "    \n",
    "fig.update_layout(showlegend=False, title_text=\"Infection over time by Region\", height=1000)\n",
    "fig.show()\n",
    "\n",
    "# with open('../plotly/new_infections_by_city.json', 'w') as f:\n",
    "#     f.write(fig.to_json())"
   ]
  },
  {
   "cell_type": "code",
   "execution_count": null,
   "metadata": {},
   "outputs": [],
   "source": [
    "quebec"
   ]
  },
  {
   "cell_type": "markdown",
   "metadata": {},
   "source": [
    "## "
   ]
  }
 ],
 "metadata": {
  "kernelspec": {
   "display_name": "Python 3",
   "language": "python",
   "name": "python3"
  },
  "language_info": {
   "codemirror_mode": {
    "name": "ipython",
    "version": 3
   },
   "file_extension": ".py",
   "mimetype": "text/x-python",
   "name": "python",
   "nbconvert_exporter": "python",
   "pygments_lexer": "ipython3",
   "version": "3.6.7"
  }
 },
 "nbformat": 4,
 "nbformat_minor": 4
}
